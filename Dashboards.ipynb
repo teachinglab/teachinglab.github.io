{
  "cells": [
    {
      "cell_type": "raw",
      "metadata": {},
      "source": [
        "---\n",
        "title: \"Dashboards\"\n",
        "description: \"Dashboards are developed and maintained by Duncan Gates.\"\n",
        "listing:\n",
        "  contents: dashboard\n",
        "  id: dashboard_list\n",
        "  sort: \"order\"\n",
        "  type: grid\n",
        "  categories: true\n",
        "  image-align: 'right'\n",
        "  image-height: '100%'\n",
        "  grid-columns: 3\n",
        "format:\n",
        "  html:\n",
        "    page-layout: full\n",
        "  engine: knitr\n",
        "---"
      ],
      "id": "805affee"
    },
    {
      "cell_type": "markdown",
      "metadata": {},
      "source": [
        "```{css, echo=FALSE}\n",
        ".quarto-title {\n",
        "    display: none;\n",
        "  }\n",
        "  \n",
        ".description {\n",
        "    display: none;\n",
        "  }\n",
        "```\n",
        "\n",
        "## Participant Perceptions\n",
        "\n",
        "Participant perceptions include data from the end of session survey administered at the end of each PL session, end of course survey administered at the end of each PL course, ongoing coaching survey administered at the end of each coaching session, and end of coaching data, administered at the end of every coaching series. Lastly, NPS data is also prompted in this survey.\n",
        "\n",
        "::: {#dashboard_list}\n",
        ":::\n",
        "\n",
        "## Participant Mindsets\n",
        "\n",
        "Participant mindsets come from the diagnostic educator survey and follow up educator survey.\n",
        "\n",
        "::: {#dashboard2_list}\n",
        ":::\n",
        "\n",
        "## Participant Knowledge\n",
        "\n",
        "Participants that completed <a href = \"https://docs.google.com/document/d/1t43JudOR4AlIk8ALdPp1V9UgZH8mWmybrDdDp2085mQ/edit?usp=sharing\">course assessments</a> will answer multiple choice quiz questions that address pedagogical content knowledge.\n",
        "\n",
        "## Participant Practices\n",
        "\n",
        "Teaching Lab staff conduct classroom observations and capture <a href = \"https://achievethecore.org/category/1155/printable-versions\">standards and shifts aligned instruction</a> in the classroom observations survey. Those results will appear in the following dashboards.\n",
        "\n",
        "## Student Learning Experiences\n",
        "\n",
        "Respondents to the student survey and submissions of student work samples have their responses rolled up and graded in the following dashboards."
      ],
      "id": "518cb5e4"
    }
  ],
  "metadata": {
    "kernelspec": {
      "name": "python3",
      "language": "python",
      "display_name": "Python 3"
    }
  },
  "nbformat": 4,
  "nbformat_minor": 5
}